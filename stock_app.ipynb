{
 "cells": [
  {
   "cell_type": "markdown",
   "metadata": {},
   "source": [
    "# PYTHON LIBRARIES"
   ]
  },
  {
   "cell_type": "markdown",
   "metadata": {},
   "source": [
    "LOADING PYTHON LIBRARIES"
   ]
  },
  {
   "cell_type": "code",
   "execution_count": 147,
   "metadata": {},
   "outputs": [],
   "source": [
    "# dash Libraries\n",
    "import dash\n",
    "from dash import dcc\n",
    "from dash import html\n",
    "from dash.dependencies import Input, Output\n",
    "\n",
    "# plotly Libraries\n",
    "import plotly.graph_objects as go\n",
    "import dash_table\n",
    "\n",
    "# pandas Libraries\n",
    "import pandas as pd\n",
    "\n",
    "\n",
    "# keras Library\n",
    "from keras.models import load_model\n",
    "from sklearn.preprocessing import MinMaxScaler\n",
    "\n",
    "# numpy Library\n",
    "import numpy as np"
   ]
  },
  {
   "cell_type": "markdown",
   "metadata": {},
   "source": [
    "DATA CLEANING AND SCALING"
   ]
  },
  {
   "cell_type": "code",
   "execution_count": 148,
   "metadata": {},
   "outputs": [],
   "source": [
    "# dataset reading\n",
    "df_nse = pd.read_csv(\"data/NSE-Tata.csv\")\n",
    "df = pd.read_csv(\"data/stock_data.csv\")"
   ]
  },
  {
   "cell_type": "code",
   "execution_count": 149,
   "metadata": {},
   "outputs": [],
   "source": [
    "# index formatting\n",
    "df_nse[\"Date\"]=pd.to_datetime(df_nse.Date,format=\"%Y-%m-%d\")\n",
    "df_nse.index=df_nse['Date']"
   ]
  },
  {
   "cell_type": "code",
   "execution_count": 150,
   "metadata": {},
   "outputs": [],
   "source": [
    "# data sorting\n",
    "data=df_nse.sort_index(ascending=True,axis=0)\n",
    "new_data=pd.DataFrame(index=range(0,len(df_nse)),columns=['Date','Close'])"
   ]
  },
  {
   "cell_type": "code",
   "execution_count": 151,
   "metadata": {},
   "outputs": [],
   "source": [
    "for i in range(0,len(data)):\n",
    "    new_data[\"Date\"][i]=data['Date'][i]\n",
    "    new_data[\"Close\"][i]=data[\"Close\"][i]\n",
    "\n",
    "new_data.index=new_data.Date\n",
    "new_data.drop(\"Date\",axis=1,inplace=True)\n",
    "\n",
    "dataset=new_data.values"
   ]
  },
  {
   "cell_type": "markdown",
   "metadata": {},
   "source": [
    "Dataset split to Train and Test"
   ]
  },
  {
   "cell_type": "code",
   "execution_count": 152,
   "metadata": {},
   "outputs": [],
   "source": [
    "# \n",
    "train=dataset[0:987,:]\n",
    "valid=dataset[987:,:]"
   ]
  },
  {
   "cell_type": "markdown",
   "metadata": {},
   "source": [
    "Scaling of data"
   ]
  },
  {
   "cell_type": "code",
   "execution_count": 153,
   "metadata": {},
   "outputs": [],
   "source": [
    "\n",
    "scaler=MinMaxScaler(feature_range=(0,1))\n",
    "scaled_data=scaler.fit_transform(dataset)"
   ]
  },
  {
   "cell_type": "code",
   "execution_count": 154,
   "metadata": {},
   "outputs": [],
   "source": [
    "x_train, y_train = [],[]\n",
    "\n",
    "for i in range(60,len(train)):\n",
    "    x_train.append(scaled_data[i-60:i,0])\n",
    "    y_train.append(scaled_data[i,0])"
   ]
  },
  {
   "cell_type": "code",
   "execution_count": 155,
   "metadata": {},
   "outputs": [],
   "source": [
    "x_train,y_train=np.array(x_train),np.array(y_train)\n",
    "x_train=np.reshape(x_train,(x_train.shape[0],x_train.shape[1],1))"
   ]
  },
  {
   "cell_type": "markdown",
   "metadata": {},
   "source": [
    "MODEL LOADING"
   ]
  },
  {
   "cell_type": "code",
   "execution_count": 156,
   "metadata": {},
   "outputs": [],
   "source": [
    "model = load_model(\"data/saved_lstm_model.h5\")"
   ]
  },
  {
   "cell_type": "code",
   "execution_count": 157,
   "metadata": {},
   "outputs": [],
   "source": [
    "inputs=new_data[len(new_data)-len(valid)-60:].values\n",
    "inputs=inputs.reshape(-1,1)\n",
    "inputs=scaler.transform(inputs)"
   ]
  },
  {
   "cell_type": "code",
   "execution_count": 158,
   "metadata": {},
   "outputs": [
    {
     "name": "stdout",
     "output_type": "stream",
     "text": [
      "8/8 [==============================] - 1s 23ms/step\n"
     ]
    }
   ],
   "source": [
    "X_test=[]\n",
    "for i in range(60,inputs.shape[0]):\n",
    "    X_test.append(inputs[i-60:i,0])\n",
    "X_test=np.array(X_test)\n",
    "\n",
    "X_test=np.reshape(X_test,(X_test.shape[0],X_test.shape[1],1))\n",
    "closing_price=model.predict(X_test)\n",
    "closing_price=scaler.inverse_transform(closing_price)"
   ]
  },
  {
   "cell_type": "markdown",
   "metadata": {},
   "source": [
    "DATASET SPLIT TO VALIDATION AND TRAINING"
   ]
  },
  {
   "cell_type": "code",
   "execution_count": 159,
   "metadata": {},
   "outputs": [],
   "source": [
    "train=new_data[:987]\n",
    "valid=new_data[987:]\n",
    "# valid['Predictions']=closing_price"
   ]
  },
  {
   "cell_type": "code",
   "execution_count": 160,
   "metadata": {},
   "outputs": [],
   "source": [
    "valid.loc[:,['Predictions']] = closing_price"
   ]
  },
  {
   "cell_type": "code",
   "execution_count": 161,
   "metadata": {},
   "outputs": [
    {
     "data": {
      "text/html": [
       "<div>\n",
       "<style scoped>\n",
       "    .dataframe tbody tr th:only-of-type {\n",
       "        vertical-align: middle;\n",
       "    }\n",
       "\n",
       "    .dataframe tbody tr th {\n",
       "        vertical-align: top;\n",
       "    }\n",
       "\n",
       "    .dataframe thead th {\n",
       "        text-align: right;\n",
       "    }\n",
       "</style>\n",
       "<table border=\"1\" class=\"dataframe\">\n",
       "  <thead>\n",
       "    <tr style=\"text-align: right;\">\n",
       "      <th></th>\n",
       "      <th>Close</th>\n",
       "      <th>Predictions</th>\n",
       "    </tr>\n",
       "    <tr>\n",
       "      <th>Date</th>\n",
       "      <th></th>\n",
       "      <th></th>\n",
       "    </tr>\n",
       "  </thead>\n",
       "  <tbody>\n",
       "    <tr>\n",
       "      <th>2017-10-09</th>\n",
       "      <td>208.3</td>\n",
       "      <td>206.019699</td>\n",
       "    </tr>\n",
       "    <tr>\n",
       "      <th>2017-10-10</th>\n",
       "      <td>208.45</td>\n",
       "      <td>207.602585</td>\n",
       "    </tr>\n",
       "    <tr>\n",
       "      <th>2017-10-11</th>\n",
       "      <td>209.4</td>\n",
       "      <td>208.739929</td>\n",
       "    </tr>\n",
       "    <tr>\n",
       "      <th>2017-10-12</th>\n",
       "      <td>212.0</td>\n",
       "      <td>209.619034</td>\n",
       "    </tr>\n",
       "    <tr>\n",
       "      <th>2017-10-13</th>\n",
       "      <td>210.25</td>\n",
       "      <td>210.684631</td>\n",
       "    </tr>\n",
       "  </tbody>\n",
       "</table>\n",
       "</div>"
      ],
      "text/plain": [
       "             Close  Predictions\n",
       "Date                           \n",
       "2017-10-09   208.3   206.019699\n",
       "2017-10-10  208.45   207.602585\n",
       "2017-10-11   209.4   208.739929\n",
       "2017-10-12   212.0   209.619034\n",
       "2017-10-13  210.25   210.684631"
      ]
     },
     "execution_count": 161,
     "metadata": {},
     "output_type": "execute_result"
    }
   ],
   "source": [
    "valid.head()"
   ]
  },
  {
   "cell_type": "markdown",
   "metadata": {},
   "source": [
    "REGREESION METRICS FOR MODEL"
   ]
  },
  {
   "cell_type": "code",
   "execution_count": 162,
   "metadata": {},
   "outputs": [],
   "source": [
    "from sklearn.metrics import mean_absolute_error, mean_squared_error,r2_score"
   ]
  },
  {
   "cell_type": "code",
   "execution_count": 163,
   "metadata": {},
   "outputs": [
    {
     "name": "stdout",
     "output_type": "stream",
     "text": [
      "mean_absolute_error 7.670436231551631\n",
      "mean_squared_error 104.94695330478396\n",
      "root_mean_squared_error 10.244362025269508\n",
      "r-squared_score 0.8708098540636484\n"
     ]
    }
   ],
   "source": [
    "mae = mean_absolute_error(valid[\"Close\"], valid[\"Predictions\"])\n",
    "print(\"mean_absolute_error\",mae)\n",
    "\n",
    "\n",
    "mse = mean_squared_error(valid[\"Close\"], valid[\"Predictions\"])\n",
    "print(\"mean_squared_error\",mse)\n",
    "\n",
    "\n",
    "rmse = np.sqrt(mean_squared_error(valid[\"Close\"], valid[\"Predictions\"]))\n",
    "print(\"root_mean_squared_error\",rmse)\n",
    "\n",
    "r2 = r2_score(valid[\"Close\"], valid[\"Predictions\"])\n",
    "print(\"r-squared_score\",r2)"
   ]
  },
  {
   "cell_type": "code",
   "execution_count": 164,
   "metadata": {},
   "outputs": [],
   "source": [
    "regression_metrics = {\n",
    "    'MAE': mae,\n",
    "    'MSE': mse,\n",
    "    'RMSE': rmse,\n",
    "    'R2': r2\n",
    "}"
   ]
  },
  {
   "cell_type": "markdown",
   "metadata": {},
   "source": [
    "# DASHBOARD"
   ]
  },
  {
   "cell_type": "markdown",
   "metadata": {},
   "source": [
    "APP SERVER"
   ]
  },
  {
   "cell_type": "code",
   "execution_count": 165,
   "metadata": {},
   "outputs": [],
   "source": [
    "app = dash.Dash(__name__)\n",
    "server = app.server"
   ]
  },
  {
   "cell_type": "markdown",
   "metadata": {},
   "source": [
    "APP LAYOUT"
   ]
  },
  {
   "cell_type": "code",
   "execution_count": 166,
   "metadata": {},
   "outputs": [],
   "source": [
    "app.layout = html.Div([\n",
    "   \n",
    "    html.H1(\"Stock Price Analysis Dashboard\"),\n",
    "   \n",
    "    dcc.Tabs(id=\"tabs\", children=[\n",
    "\t\t# tab1\n",
    "\t\tdcc.Tab(label=\"Model and TATA Stock Analysis\",className='custom-tab',children=[\n",
    "            html.Div([\n",
    "                html.H2(\"Actual closing price\", className='custom-content'),\n",
    "\t\t\t\tdcc.Graph(\n",
    "\t\t\t\t\tid=\"Actual Data\",\n",
    "\t\t\t\t\tfigure={\n",
    "\t\t\t\t\t\t\"data\":[\n",
    "\t\t\t\t\t\t\tgo.Scatter(\n",
    "\t\t\t\t\t\t\t\tx=train.index,\n",
    "\t\t\t\t\t\t\t\ty=train[\"Close\"],\n",
    "\t\t\t\t\t\t\t\tmode='lines'\n",
    "\t\t\t\t\t\t\t)\n",
    "\n",
    "\t\t\t\t\t\t],\n",
    "\t\t\t\t\t\t\"layout\":go.Layout(\n",
    "\t\t\t\t\t\t\ttitle='Actual Closing Rate(2013-2014)',\n",
    "\t\t\t\t\t\t\txaxis={'title':'Date'},\n",
    "\t\t\t\t\t\t\tyaxis={'title':'Closing Rate'}\n",
    "\t\t\t\t\t\t)\n",
    "\t\t\t\t\t}\n",
    "\t\t\t\t),\n",
    "\t\t\t]),\n",
    "            \n",
    "\t\t\t# 2 panes \n",
    "\t\t\thtml.Div([\n",
    "                # left pane\n",
    "\t\t\t\thtml.Div([\n",
    "            \t    html.H2(\"Model Metrics Table\", className='custom-content'),\n",
    "\t\t\t\t\tdash_table.DataTable(\n",
    "        \t\t\t\tid='metrics-table',\n",
    "        \t\t\t\tcolumns=[\n",
    "        \t\t\t    \t{'name': 'Metric', 'id': 'Metric'},\n",
    "        \t\t\t    \t{'name': 'Value', 'id': 'Value'}\n",
    "        \t\t\t\t],\n",
    "        \t\t\t\tdata=[{'Metric': metric, 'Value': value} for metric, value in regression_metrics.items()],\n",
    "                \t),\n",
    "\t\t\t\t], className='pane pane1' ),\n",
    "            \n",
    "\t\t\t\t# right pane\n",
    "            \thtml.Div([\n",
    "\t\t\t\t\thtml.H2(\"LSTM Predicted closing price\", className='custom-content'),\n",
    "\t\t\t\t\tdcc.Graph(\n",
    "\t\t\t\t\t\tid=\"Predicted Data\",\n",
    "\t\t\t\t\t\tfigure={\n",
    "\t\t\t\t\t\t\t\"data\":[\n",
    "\t\t\t\t\t\t\t\tgo.Scatter(\n",
    "\t\t\t\t\t\t\t\t\tx=valid.index,\n",
    "\t\t\t\t\t\t\t\t\ty=valid[\"Predictions\"],\n",
    "\t\t\t\t\t\t\t\t\tmode='lines'\n",
    "\t\t\t\t\t\t\t\t)\n",
    "\t\t\t\t\t\t\t],\n",
    "\t\t\t\t\t\t\t\"layout\":go.Layout(\n",
    "\t\t\t\t\t\t\t\ttitle='Predicted Closing Rate(2017-2018)',\n",
    "\t\t\t\t\t\t\t\txaxis={'title':'Date'},\n",
    "\t\t\t\t\t\t\t\tyaxis={'title':'Closing Rate'}\n",
    "\t\t\t\t\t\t\t)\n",
    "\t\t\t\t\t\t}\n",
    "\t\t\t\t\t),\n",
    "\t\t\t\t], className='pane pane2'),\n",
    "            ],className='pane'),\n",
    "\t\t\t\n",
    "\t\t]),\n",
    "        \n",
    "        # dcc.Tab(label='NSE-TATAGLOBAL Stock Data', className='custom-tab', children=[\n",
    "\t\t# \thtml.Div([\n",
    "\t\t# \t\thtml.H2(\"Actual closing price\", className='custom-content'),\n",
    "\t\t# \t\tdcc.Graph(\n",
    "\t\t# \t\t\tid=\"Actual Data\",\n",
    "\t\t# \t\t\tfigure={\n",
    "\t\t# \t\t\t\t\"data\":[\n",
    "\t\t# \t\t\t\t\tgo.Scatter(\n",
    "\t\t# \t\t\t\t\t\tx=train.index,\n",
    "\t\t# \t\t\t\t\t\ty=train[\"Close\"],\n",
    "\t\t# \t\t\t\t\t\tmode='lines'\n",
    "\t\t# \t\t\t\t\t)\n",
    "\n",
    "\t\t# \t\t\t\t],\n",
    "\t\t# \t\t\t\t\"layout\":go.Layout(\n",
    "\t\t# \t\t\t\t\ttitle='Actual Closing Rate(2013-2014)',\n",
    "\t\t# \t\t\t\t\txaxis={'title':'Date'},\n",
    "\t\t# \t\t\t\t\tyaxis={'title':'Closing Rate'}\n",
    "\t\t# \t\t\t\t)\n",
    "\t\t# \t\t\t}\n",
    "\t\t# \t\t),\n",
    "\t\t# \t\thtml.H2(\"LSTM Predicted closing price\", className='custom-content'),\n",
    "\t\t# \t\tdcc.Graph(\n",
    "\t\t# \t\t\tid=\"Predicted Data\",\n",
    "\t\t# \t\t\tfigure={\n",
    "\t\t# \t\t\t\t\"data\":[\n",
    "\t\t# \t\t\t\t\tgo.Scatter(\n",
    "\t\t# \t\t\t\t\t\tx=valid.index,\n",
    "\t\t# \t\t\t\t\t\ty=valid[\"Predictions\"],\n",
    "\t\t# \t\t\t\t\t\tmode='lines'\n",
    "\t\t# \t\t\t\t\t)\n",
    "\t\t# \t\t\t\t],\n",
    "\t\t# \t\t\t\t\"layout\":go.Layout(\n",
    "\t\t# \t\t\t\t\ttitle='Predicted Closing Rate(2017-2018)',\n",
    "\t\t# \t\t\t\t\txaxis={'title':'Date'},\n",
    "\t\t# \t\t\t\t\tyaxis={'title':'Closing Rate'}\n",
    "\t\t# \t\t\t\t)\n",
    "\t\t# \t\t\t}\n",
    "\t\t# \t\t),\n",
    "        #         html.H2(\"Model Metrics Table\", className='custom-content'),\n",
    "        #         dash_table.DataTable(\n",
    "        # \t\t\tid='metrics-table',\n",
    "        # \t\t\tcolumns=[\n",
    "        # \t\t\t    {'name': 'Metric', 'id': 'Metric'},\n",
    "        # \t\t\t    {'name': 'Value', 'id': 'Value'}\n",
    "        # \t\t\t],\n",
    "        # \t\t\tdata=[{'Metric': metric, 'Value': value} for metric, value in regression_metrics.items()]\n",
    "        #         ),\n",
    "\t\t# \t])        \t\t\n",
    "        # ]),\n",
    "\n",
    "\t\t# tab2\n",
    "        dcc.Tab(label='NSE-TATAGLOBAL Stock Analysis',className='custom-tab', children=[\n",
    "            html.Div([\n",
    "                html.H2(\"Tata Stock Actual vs Predicted closing price\", className='custom-content'),\n",
    "\n",
    "                dcc.Dropdown(id= 'my-dropdown3',\n",
    "                             options=[{'label': 'Actual Closing', 'value': 'Close'},\n",
    "                                      {'label': 'Predicted Closing', 'value': 'Predictions'}],\n",
    "                            multi=True,value=['Close'], className='dropdown-menu'),\n",
    "                dcc.Graph(id='closing'),\n",
    "            ])\n",
    "        ]),\n",
    "\n",
    "\t\t# tab3\n",
    "        dcc.Tab(label='Stock Analysis (AAPL, TSLA, etc)',className='custom-tab', children=[\n",
    "            html.Div([\n",
    "                html.H2(\"Stocks High vs Lows\", className='custom-content'),\n",
    "              \n",
    "                dcc.Dropdown(id='my-dropdown',\n",
    "                             options=[{'label': 'Tesla', 'value': 'TSLA'},\n",
    "                                      {'label': 'Apple','value': 'AAPL'}, \n",
    "                                      {'label': 'Facebook', 'value': 'FB'}, \n",
    "                                      {'label': 'Microsoft','value': 'MSFT'}], \n",
    "                             multi=True,value=['FB'], className='dropdown-menu'),\n",
    "                dcc.Graph(id='highlow'),\n",
    "\n",
    "\n",
    "                html.H2(\"Stocks Market Volume\", className='custom-content'),\n",
    "                dcc.Dropdown(id='my-dropdown2',\n",
    "                             options=[{'label': 'Tesla', 'value': 'TSLA'},\n",
    "                                      {'label': 'Apple','value': 'AAPL'}, \n",
    "                                      {'label': 'Facebook', 'value': 'FB'},\n",
    "                                      {'label': 'Microsoft','value': 'MSFT'}], \n",
    "                             multi=True,value=['FB'],className='dropdown-menu'),\n",
    "                dcc.Graph(id='volume')\n",
    "            ]),\n",
    "        ])\n",
    "\n",
    "\n",
    "    ])\n",
    "])"
   ]
  },
  {
   "cell_type": "markdown",
   "metadata": {},
   "source": []
  },
  {
   "cell_type": "markdown",
   "metadata": {},
   "source": [
    "APP CALLBACKS"
   ]
  },
  {
   "cell_type": "code",
   "execution_count": 167,
   "metadata": {},
   "outputs": [],
   "source": [
    "@app.callback(Output('highlow', 'figure'),\n",
    "              [Input('my-dropdown', 'value')])\n",
    "def update_graph_highlow(selected_dropdown):\n",
    "    dropdown = {\"TSLA\": \"Tesla\",\"AAPL\": \"Apple\",\"FB\": \"Facebook\",\"MSFT\": \"Microsoft\",}\n",
    "    trace1 = []\n",
    "    trace2 = []\n",
    "    for stock in selected_dropdown:\n",
    "        trace1.append(\n",
    "          go.Scatter(x=df[df[\"Stock\"] == stock][\"Date\"],\n",
    "                     y=df[df[\"Stock\"] == stock][\"High\"],\n",
    "                     mode='lines', opacity=0.7, \n",
    "                     name=f'High {dropdown[stock]}',textposition='bottom center'))\n",
    "        trace2.append(\n",
    "          go.Scatter(x=df[df[\"Stock\"] == stock][\"Date\"],\n",
    "                     y=df[df[\"Stock\"] == stock][\"Low\"],\n",
    "                     mode='lines', opacity=0.6,\n",
    "                     name=f'Low {dropdown[stock]}',textposition='bottom center'))\n",
    "    traces = [trace1, trace2]\n",
    "    data = [val for sublist in traces for val in sublist]\n",
    "    figure = {'data': data,\n",
    "              'layout': go.Layout(colorway=[\"#5E0DAC\", '#FF4F00', '#375CB1', \n",
    "                                            '#FF7400', '#FFF400', '#FF0056'],\n",
    "            height=600,\n",
    "            title=f\"High and Low Prices for {', '.join(str(dropdown[i]) for i in selected_dropdown)} Over Time\",\n",
    "            xaxis={\"title\":\"Date\",\n",
    "                   'rangeselector': {'buttons': list([{'count': 1, 'label': '1M', \n",
    "                                                       'step': 'month', \n",
    "                                                       'stepmode': 'backward'},\n",
    "                                                      {'count': 6, 'label': '6M', \n",
    "                                                       'step': 'month', \n",
    "                                                       'stepmode': 'backward'},\n",
    "                                                      {'step': 'all'}])},\n",
    "                   'rangeslider': {'visible': True}, 'type': 'date'},\n",
    "             yaxis={\"title\":\"Price (USD)\"})}\n",
    "    return figure"
   ]
  },
  {
   "cell_type": "code",
   "execution_count": 168,
   "metadata": {},
   "outputs": [],
   "source": [
    "@app.callback(Output('closing','figure'),\n",
    "              [Input('my-dropdown3', 'value')])\n",
    "def update_graph_closing(selected_dropdown_close):\n",
    "    dropdown= {\"Close\": \"Actual\",\"Predictions\": \"Predicted\"}\n",
    "    trace1=[]\n",
    "    for stock in selected_dropdown_close:\n",
    "        trace1.append(\n",
    "            go.Scatter(x=valid.index,\n",
    "                       y=valid[stock],\n",
    "                       mode = 'lines', opacity=0.7,\n",
    "                       name=f'{dropdown[stock]} Closing ', textposition='bottom center'))\n",
    "        \n",
    "    traces = [trace1]\n",
    "    data = [val for sublist in traces for val in sublist]\n",
    "    figure = {'data': data, \n",
    "              'layout': go.Layout(colorway=[\"#5E0DAC\", '#FF4F00', '#375CB1', \n",
    "                                            '#FF7400', '#FFF400', '#FF0056'],\n",
    "            height=600,\n",
    "            title=f\"{''.join(str(dropdown[i]) for i in selected_dropdown_close)} Prices Over Time\",\n",
    "            xaxis={\"title\":\"Date\",\n",
    "                   'rangeselector': {'buttons': list([{'count': 1, 'label': '1M', \n",
    "                                                       'step': 'month', \n",
    "                                                       'stepmode': 'backward'},\n",
    "                                                      {'count': 6, 'label': '6M',\n",
    "                                                       'step': 'month', \n",
    "                                                       'stepmode': 'backward'},\n",
    "                                                      {'step': 'all'}])},\n",
    "                   'rangeslider': {'visible': True}, 'type': 'date'},\n",
    "             yaxis={\"title\":\"Cosing Price\"})}\n",
    "    return figure"
   ]
  },
  {
   "cell_type": "code",
   "execution_count": 169,
   "metadata": {},
   "outputs": [],
   "source": [
    "@app.callback(Output('volume', 'figure'),\n",
    "              [Input('my-dropdown2', 'value')])\n",
    "def update_graph_volume(selected_dropdown_value):\n",
    "    dropdown = {\"TSLA\": \"Tesla\",\"AAPL\": \"Apple\",\"FB\": \"Facebook\",\"MSFT\": \"Microsoft\",}\n",
    "    trace1 = []\n",
    "    for stock in selected_dropdown_value:\n",
    "        trace1.append(\n",
    "          go.Scatter(x=df[df[\"Stock\"] == stock][\"Date\"],\n",
    "                     y=df[df[\"Stock\"] == stock][\"Volume\"],\n",
    "                     mode='lines', opacity=0.7,\n",
    "                     name=f'Volume {dropdown[stock]}', textposition='bottom center'))\n",
    "    traces = [trace1]\n",
    "    data = [val for sublist in traces for val in sublist]\n",
    "    figure = {'data': data, \n",
    "              'layout': go.Layout(colorway=[\"#5E0DAC\", '#FF4F00', '#375CB1', \n",
    "                                            '#FF7400', '#FFF400', '#FF0056'],\n",
    "            height=600,\n",
    "            title=f\"Market Volume for {', '.join(str(dropdown[i]) for i in selected_dropdown_value)} Over Time\",\n",
    "            xaxis={\"title\":\"Date\",\n",
    "                   'rangeselector': {'buttons': list([{'count': 1, 'label': '1M', \n",
    "                                                       'step': 'month', \n",
    "                                                       'stepmode': 'backward'},\n",
    "                                                      {'count': 6, 'label': '6M',\n",
    "                                                       'step': 'month', \n",
    "                                                       'stepmode': 'backward'},\n",
    "                                                      {'step': 'all'}])},\n",
    "                   'rangeslider': {'visible': True}, 'type': 'date'},\n",
    "             yaxis={\"title\":\"Transactions Volume\"})}\n",
    "    return figure"
   ]
  },
  {
   "cell_type": "markdown",
   "metadata": {},
   "source": [
    "APP SERVER START"
   ]
  },
  {
   "cell_type": "code",
   "execution_count": 170,
   "metadata": {},
   "outputs": [
    {
     "data": {
      "text/html": [
       "\n",
       "        <iframe\n",
       "            width=\"100%\"\n",
       "            height=\"650\"\n",
       "            src=\"http://127.0.0.1:8050/\"\n",
       "            frameborder=\"0\"\n",
       "            allowfullscreen\n",
       "            \n",
       "        ></iframe>\n",
       "        "
      ],
      "text/plain": [
       "<IPython.lib.display.IFrame at 0x1d6c2450c10>"
      ]
     },
     "metadata": {},
     "output_type": "display_data"
    }
   ],
   "source": [
    "if __name__ == '__main__':\n",
    "    app.run_server(debug=True, use_reloader=False)"
   ]
  },
  {
   "cell_type": "code",
   "execution_count": null,
   "metadata": {},
   "outputs": [],
   "source": []
  }
 ],
 "metadata": {
  "kernelspec": {
   "display_name": "Python 3",
   "language": "python",
   "name": "python3"
  },
  "language_info": {
   "codemirror_mode": {
    "name": "ipython",
    "version": 3
   },
   "file_extension": ".py",
   "mimetype": "text/x-python",
   "name": "python",
   "nbconvert_exporter": "python",
   "pygments_lexer": "ipython3",
   "version": "3.11.4"
  },
  "orig_nbformat": 4
 },
 "nbformat": 4,
 "nbformat_minor": 2
}
