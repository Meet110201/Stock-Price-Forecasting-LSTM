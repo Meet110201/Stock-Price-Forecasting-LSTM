{
 "cells": [
  {
   "cell_type": "code",
   "execution_count": 1,
   "id": "d32146d7",
   "metadata": {},
   "outputs": [],
   "source": [
    "import dash\n",
    "from dash import dcc\n",
    "from dash import html\n",
    "import pandas as pd\n",
    "import plotly.graph_objs as go\n",
    "from dash.dependencies import Input, Output\n",
    "from keras.models import load_model\n",
    "from sklearn.preprocessing import MinMaxScaler\n",
    "import numpy as np"
   ]
  },
  {
   "cell_type": "code",
   "execution_count": 2,
   "id": "a333d5d1",
   "metadata": {},
   "outputs": [],
   "source": [
    "external_stylesheets = [\n",
    "    \"https://fonts.googleapis.com/css2?family=Montserrat:wght@300;400;800&family=Open+Sans:ital,wght@0,300;0,400;0,700;1,300&display=swap\"\n",
    "    ]\n"
   ]
  },
  {
   "cell_type": "code",
   "execution_count": 3,
   "id": "583f6a70",
   "metadata": {},
   "outputs": [],
   "source": [
    "app = dash.Dash(__name__, external_stylesheets=external_stylesheets)\n",
    "server = app.server"
   ]
  },
  {
   "cell_type": "code",
   "execution_count": 4,
   "id": "a9f6f1c6",
   "metadata": {},
   "outputs": [],
   "source": [
    "scaler=MinMaxScaler(feature_range=(0,1))"
   ]
  },
  {
   "cell_type": "code",
   "execution_count": 5,
   "id": "1a660e9f",
   "metadata": {},
   "outputs": [],
   "source": [
    "df_nse = pd.read_csv(\"./data/NSE-TATA.csv\")\n",
    "\n",
    "df_nse[\"Date\"]=pd.to_datetime(df_nse.Date,format=\"%Y-%m-%d\")\n",
    "df_nse.index=df_nse['Date']"
   ]
  },
  {
   "cell_type": "code",
   "execution_count": 6,
   "id": "33fe48ff",
   "metadata": {},
   "outputs": [],
   "source": [
    "data=df_nse.sort_index(ascending=True,axis=0)\n",
    "new_data=pd.DataFrame(index=range(0,len(df_nse)),columns=['Date','Close'])"
   ]
  },
  {
   "cell_type": "code",
   "execution_count": 7,
   "id": "50d77f03",
   "metadata": {},
   "outputs": [],
   "source": [
    "for i in range(0,len(data)):\n",
    "    new_data[\"Date\"][i]=data['Date'][i]\n",
    "    new_data[\"Close\"][i]=data[\"Close\"][i]"
   ]
  },
  {
   "cell_type": "code",
   "execution_count": 8,
   "id": "e720f06c",
   "metadata": {},
   "outputs": [],
   "source": [
    "new_data.index=new_data.Date\n",
    "new_data.drop(\"Date\",axis=1,inplace=True)"
   ]
  },
  {
   "cell_type": "code",
   "execution_count": 9,
   "id": "0cc32fb1",
   "metadata": {},
   "outputs": [],
   "source": [
    "dataset=new_data.values"
   ]
  },
  {
   "cell_type": "code",
   "execution_count": 10,
   "id": "a047a2db",
   "metadata": {},
   "outputs": [],
   "source": [
    "train=dataset[0:987,:]\n",
    "valid=dataset[987:,:]"
   ]
  },
  {
   "cell_type": "code",
   "execution_count": 11,
   "id": "c1b39d70",
   "metadata": {},
   "outputs": [],
   "source": [
    "scaler=MinMaxScaler(feature_range=(0,1))\n",
    "scaled_data=scaler.fit_transform(dataset)"
   ]
  },
  {
   "cell_type": "code",
   "execution_count": 12,
   "id": "6ead2e14",
   "metadata": {},
   "outputs": [],
   "source": [
    "x_train,y_train=[],[]"
   ]
  },
  {
   "cell_type": "code",
   "execution_count": 13,
   "id": "87c85fac",
   "metadata": {},
   "outputs": [],
   "source": [
    "for i in range(60,len(train)):\n",
    "    x_train.append(scaled_data[i-60:i,0])\n",
    "    y_train.append(scaled_data[i,0])"
   ]
  },
  {
   "cell_type": "code",
   "execution_count": 14,
   "id": "fdbf759f",
   "metadata": {},
   "outputs": [],
   "source": [
    "x_train,y_train=np.array(x_train),np.array(y_train)"
   ]
  },
  {
   "cell_type": "code",
   "execution_count": 15,
   "id": "3a373f5f",
   "metadata": {},
   "outputs": [],
   "source": [
    "x_train=np.reshape(x_train,(x_train.shape[0],x_train.shape[1],1))"
   ]
  },
  {
   "cell_type": "code",
   "execution_count": 16,
   "id": "fb06ade3",
   "metadata": {},
   "outputs": [],
   "source": [
    "model=load_model(\"/data/saved_lstm_model.h5\")"
   ]
  },
  {
   "cell_type": "code",
   "execution_count": 17,
   "id": "15ed4a28",
   "metadata": {},
   "outputs": [],
   "source": [
    "inputs=new_data[len(new_data)-len(valid)-60:].values\n",
    "inputs=inputs.reshape(-1,1)\n",
    "inputs=scaler.transform(inputs)"
   ]
  },
  {
   "cell_type": "code",
   "execution_count": 18,
   "id": "930b06ce",
   "metadata": {},
   "outputs": [],
   "source": [
    "X_test=[]\n",
    "for i in range(60,inputs.shape[0]):\n",
    "    X_test.append(inputs[i-60:i,0])\n",
    "X_test=np.array(X_test)\n"
   ]
  },
  {
   "cell_type": "code",
   "execution_count": 19,
   "id": "5444e230",
   "metadata": {},
   "outputs": [
    {
     "name": "stdout",
     "output_type": "stream",
     "text": [
      "8/8 [==============================] - 1s 11ms/step\n"
     ]
    }
   ],
   "source": [
    "X_test=np.reshape(X_test,(X_test.shape[0],X_test.shape[1],1))\n",
    "closing_price=model.predict(X_test)\n",
    "closing_price=scaler.inverse_transform(closing_price)"
   ]
  },
  {
   "cell_type": "code",
   "execution_count": 20,
   "id": "becb8caa",
   "metadata": {},
   "outputs": [
    {
     "name": "stderr",
     "output_type": "stream",
     "text": [
      "C:\\Users\\parme\\AppData\\Local\\Temp\\ipykernel_7528\\1968369711.py:3: SettingWithCopyWarning: \n",
      "A value is trying to be set on a copy of a slice from a DataFrame.\n",
      "Try using .loc[row_indexer,col_indexer] = value instead\n",
      "\n",
      "See the caveats in the documentation: https://pandas.pydata.org/pandas-docs/stable/user_guide/indexing.html#returning-a-view-versus-a-copy\n",
      "  valid['Predictions']=closing_price\n"
     ]
    }
   ],
   "source": [
    "train=new_data[:987]\n",
    "valid=new_data[987:]\n",
    "valid['Predictions']=closing_price"
   ]
  },
  {
   "cell_type": "code",
   "execution_count": 21,
   "id": "b5824f7a",
   "metadata": {},
   "outputs": [
    {
     "data": {
      "text/html": [
       "<div>\n",
       "<style scoped>\n",
       "    .dataframe tbody tr th:only-of-type {\n",
       "        vertical-align: middle;\n",
       "    }\n",
       "\n",
       "    .dataframe tbody tr th {\n",
       "        vertical-align: top;\n",
       "    }\n",
       "\n",
       "    .dataframe thead th {\n",
       "        text-align: right;\n",
       "    }\n",
       "</style>\n",
       "<table border=\"1\" class=\"dataframe\">\n",
       "  <thead>\n",
       "    <tr style=\"text-align: right;\">\n",
       "      <th></th>\n",
       "      <th>Close</th>\n",
       "      <th>Predictions</th>\n",
       "    </tr>\n",
       "    <tr>\n",
       "      <th>Date</th>\n",
       "      <th></th>\n",
       "      <th></th>\n",
       "    </tr>\n",
       "  </thead>\n",
       "  <tbody>\n",
       "    <tr>\n",
       "      <th>2017-10-09</th>\n",
       "      <td>208.3</td>\n",
       "      <td>210.725571</td>\n",
       "    </tr>\n",
       "    <tr>\n",
       "      <th>2017-10-10</th>\n",
       "      <td>208.45</td>\n",
       "      <td>211.880508</td>\n",
       "    </tr>\n",
       "    <tr>\n",
       "      <th>2017-10-11</th>\n",
       "      <td>209.4</td>\n",
       "      <td>212.914719</td>\n",
       "    </tr>\n",
       "    <tr>\n",
       "      <th>2017-10-12</th>\n",
       "      <td>212.0</td>\n",
       "      <td>213.877838</td>\n",
       "    </tr>\n",
       "    <tr>\n",
       "      <th>2017-10-13</th>\n",
       "      <td>210.25</td>\n",
       "      <td>215.004272</td>\n",
       "    </tr>\n",
       "  </tbody>\n",
       "</table>\n",
       "</div>"
      ],
      "text/plain": [
       "             Close  Predictions\n",
       "Date                           \n",
       "2017-10-09   208.3   210.725571\n",
       "2017-10-10  208.45   211.880508\n",
       "2017-10-11   209.4   212.914719\n",
       "2017-10-12   212.0   213.877838\n",
       "2017-10-13  210.25   215.004272"
      ]
     },
     "execution_count": 21,
     "metadata": {},
     "output_type": "execute_result"
    }
   ],
   "source": [
    "valid.head()\n"
   ]
  },
  {
   "cell_type": "code",
   "execution_count": 22,
   "id": "ac88d90d",
   "metadata": {},
   "outputs": [],
   "source": [
    "df= pd.read_csv(\"./data/stock_data.csv\")\n",
    "\n",
    "app.layout = html.Div([\n",
    "   \n",
    "    html.H1(\"Stock Price Analysis Dashboard\", style={\"textAlign\": \"center\", \"font-family\": \"'Open Sans\"}),\n",
    "   \n",
    "    dcc.Tabs(id=\"tabs\", children=[\n",
    "        dcc.Tab(label='NSE-TATAGLOBAL Stock Data',children=[\n",
    "\t\t\thtml.Div([\n",
    "\t\t\t\thtml.H2(\"Actual closing price\",style={\"textAlign\": \"center\"}),\n",
    "\t\t\t\tdcc.Graph(\n",
    "\t\t\t\t\tid=\"Actual Data\",\n",
    "\t\t\t\t\tfigure={\n",
    "\t\t\t\t\t\t\"data\":[\n",
    "\t\t\t\t\t\t\tgo.Scatter(\n",
    "\t\t\t\t\t\t\t\tx=train.index,\n",
    "\t\t\t\t\t\t\t\ty=valid[\"Close\"],\n",
    "\t\t\t\t\t\t\t\tmode='lines'\n",
    "\t\t\t\t\t\t\t)\n",
    "\n",
    "\t\t\t\t\t\t],\n",
    "\t\t\t\t\t\t\"layout\":go.Layout(\n",
    "\t\t\t\t\t\t\ttitle='scatter plot',\n",
    "\t\t\t\t\t\t\txaxis={'title':'Date'},\n",
    "\t\t\t\t\t\t\tyaxis={'title':'Closing Rate'}\n",
    "\t\t\t\t\t\t)\n",
    "\t\t\t\t\t}\n",
    "\t\t\t\t),\n",
    "\t\t\t\thtml.H2(\"LSTM Predicted closing price\",style={\"textAlign\": \"center\"}),\n",
    "\t\t\t\tdcc.Graph(\n",
    "\t\t\t\t\tid=\"Predicted Data\",\n",
    "\t\t\t\t\tfigure={\n",
    "\t\t\t\t\t\t\"data\":[\n",
    "\t\t\t\t\t\t\tgo.Scatter(\n",
    "\t\t\t\t\t\t\t\tx=valid.index,\n",
    "\t\t\t\t\t\t\t\ty=valid[\"Predictions\"],\n",
    "\t\t\t\t\t\t\t\tmode='lines'\n",
    "\t\t\t\t\t\t\t)\n",
    "\t\t\t\t\t\t],\n",
    "\t\t\t\t\t\t\"layout\":go.Layout(\n",
    "\t\t\t\t\t\t\ttitle='scatter plot',\n",
    "\t\t\t\t\t\t\txaxis={'title':'Date'},\n",
    "\t\t\t\t\t\t\tyaxis={'title':'Closing Rate'}\n",
    "\t\t\t\t\t\t)\n",
    "\t\t\t\t\t}\n",
    "\t\t\t\t)\t\t\t\t\n",
    "\t\t\t])        \t\t\n",
    "        ]),\n",
    "\n",
    "\n",
    "        dcc.Tab(label='NSE-TATAGLOBAL Analysis', children=[\n",
    "            html.Div([\n",
    "                html.H1(\"Tata Stock Actual vs Predicted closing price\",\n",
    "                        style={'textAlign': 'Center', 'font-family': 'Open Sans'}),\n",
    "\n",
    "                dcc.Dropdown(id= 'my-dropdown3',\n",
    "                             options=[{'label': 'Actual Closing', 'value': 'Close'},\n",
    "                                      {'label': 'Predicted Closing', 'value': 'Predictions'}],\n",
    "                            multi=True,value=['Close'],\n",
    "                            style={\"display\": \"block\", \"margin-left\": \"auto\", \n",
    "                                    \"margin-right\": \"auto\", \"width\": \"60%\"}),\n",
    "                dcc.Graph(id='closing')\n",
    "            ])\n",
    "        ]),\n",
    "        \n",
    "\n",
    "        dcc.Tab(label='Analyse', children=[\n",
    "            html.Div([\n",
    "                html.H1(\"Stocks High vs Lows\", \n",
    "                        style={'textAlign': 'center'}),\n",
    "              \n",
    "                dcc.Dropdown(id='my-dropdown',\n",
    "                             options=[{'label': 'Tesla', 'value': 'TSLA'},\n",
    "                                      {'label': 'Apple','value': 'AAPL'}, \n",
    "                                      {'label': 'Facebook', 'value': 'FB'}, \n",
    "                                      {'label': 'Microsoft','value': 'MSFT'}], \n",
    "                             multi=True,value=['FB'],\n",
    "                             style={\"display\": \"block\", \"margin-left\": \"auto\", \n",
    "                                    \"margin-right\": \"auto\", \"width\": \"60%\"}),\n",
    "                dcc.Graph(id='highlow'),\n",
    "\n",
    "\n",
    "                html.H1(\"Stocks Market Volume\", style={'textAlign': 'center'}),\n",
    "         \n",
    "                dcc.Dropdown(id='my-dropdown2',\n",
    "                             options=[{'label': 'Tesla', 'value': 'TSLA'},\n",
    "                                      {'label': 'Apple','value': 'AAPL'}, \n",
    "                                      {'label': 'Facebook', 'value': 'FB'},\n",
    "                                      {'label': 'Microsoft','value': 'MSFT'}], \n",
    "                             multi=True,value=['FB'],\n",
    "                             style={\"display\": \"block\", \"margin-left\": \"auto\", \n",
    "                                    \"margin-right\": \"auto\", \"width\": \"60%\"}),\n",
    "                dcc.Graph(id='volume')\n",
    "            ], className=\"container\"),\n",
    "        ])\n",
    "\n",
    "\n",
    "    ])\n",
    "])"
   ]
  },
  {
   "cell_type": "code",
   "execution_count": 23,
   "id": "55ac61f6",
   "metadata": {},
   "outputs": [],
   "source": [
    "@app.callback(Output('highlow', 'figure'),\n",
    "              [Input('my-dropdown', 'value')])\n",
    "def update_graph_highlow(selected_dropdown):\n",
    "    dropdown = {\"TSLA\": \"Tesla\",\"AAPL\": \"Apple\",\"FB\": \"Facebook\",\"MSFT\": \"Microsoft\",}\n",
    "    trace1 = []\n",
    "    trace2 = []\n",
    "    for stock in selected_dropdown:\n",
    "        trace1.append(\n",
    "          go.Scatter(x=df[df[\"Stock\"] == stock][\"Date\"],\n",
    "                     y=df[df[\"Stock\"] == stock][\"High\"],\n",
    "                     mode='lines', opacity=0.7, \n",
    "                     name=f'High {dropdown[stock]}',textposition='bottom center'))\n",
    "        trace2.append(\n",
    "          go.Scatter(x=df[df[\"Stock\"] == stock][\"Date\"],\n",
    "                     y=df[df[\"Stock\"] == stock][\"Low\"],\n",
    "                     mode='lines', opacity=0.6,\n",
    "                     name=f'Low {dropdown[stock]}',textposition='bottom center'))\n",
    "    traces = [trace1, trace2]\n",
    "    data = [val for sublist in traces for val in sublist]\n",
    "    figure = {'data': data,\n",
    "              'layout': go.Layout(colorway=[\"#5E0DAC\", '#FF4F00', '#375CB1', \n",
    "                                            '#FF7400', '#FFF400', '#FF0056'],\n",
    "            height=600,\n",
    "            title=f\"High and Low Prices for {', '.join(str(dropdown[i]) for i in selected_dropdown)} Over Time\",\n",
    "            xaxis={\"title\":\"Date\",\n",
    "                   'rangeselector': {'buttons': list([{'count': 1, 'label': '1M', \n",
    "                                                       'step': 'month', \n",
    "                                                       'stepmode': 'backward'},\n",
    "                                                      {'count': 6, 'label': '6M', \n",
    "                                                       'step': 'month', \n",
    "                                                       'stepmode': 'backward'},\n",
    "                                                      {'step': 'all'}])},\n",
    "                   'rangeslider': {'visible': True}, 'type': 'date'},\n",
    "             yaxis={\"title\":\"Price (USD)\"})}\n",
    "    return figure\n",
    "\n",
    "\n"
   ]
  },
  {
   "cell_type": "code",
   "execution_count": 24,
   "id": "7a0efc0b",
   "metadata": {},
   "outputs": [],
   "source": [
    "@app.callback(Output('closing','figure'),\n",
    "              [Input('my-dropdown3', 'value')])\n",
    "def update_graph_closing(selected_dropdown_close):\n",
    "    dropdown= {\"Close\": \"Actual\",\"Predictions\": \"Predicted\"}\n",
    "    trace1=[]\n",
    "    for stock in selected_dropdown_close:\n",
    "        trace1.append(\n",
    "            go.Scatter(x=valid.index,\n",
    "                       y=valid[stock],\n",
    "                       mode = 'lines', opacity=0.7,\n",
    "                       name=f'{dropdown[stock]} Closing ', textposition='bottom center'))\n",
    "        \n",
    "    traces = [trace1]\n",
    "    data = [val for sublist in traces for val in sublist]\n",
    "    figure = {'data': data, \n",
    "              'layout': go.Layout(colorway=[\"#5E0DAC\", '#FF4F00', '#375CB1', \n",
    "                                            '#FF7400', '#FFF400', '#FF0056'],\n",
    "            height=600,\n",
    "            title=f\"{''.join(str(dropdown[i]) for i in selected_dropdown_close)} Prices Over Time\",\n",
    "            xaxis={\"title\":\"Date\",\n",
    "                   'rangeselector': {'buttons': list([{'count': 1, 'label': '1M', \n",
    "                                                       'step': 'month', \n",
    "                                                       'stepmode': 'backward'},\n",
    "                                                      {'count': 6, 'label': '6M',\n",
    "                                                       'step': 'month', \n",
    "                                                       'stepmode': 'backward'},\n",
    "                                                      {'step': 'all'}])},\n",
    "                   'rangeslider': {'visible': True}, 'type': 'date'},\n",
    "             yaxis={\"title\":\"Cosing Price\"})}\n",
    "    return figure"
   ]
  },
  {
   "cell_type": "code",
   "execution_count": 25,
   "id": "777b11df",
   "metadata": {},
   "outputs": [],
   "source": [
    "@app.callback(Output('volume', 'figure'),\n",
    "              [Input('my-dropdown2', 'value')])\n",
    "def update_graph_volume(selected_dropdown_value):\n",
    "    dropdown = {\"TSLA\": \"Tesla\",\"AAPL\": \"Apple\",\"FB\": \"Facebook\",\"MSFT\": \"Microsoft\",}\n",
    "    trace1 = []\n",
    "    for stock in selected_dropdown_value:\n",
    "        trace1.append(\n",
    "          go.Scatter(x=df[df[\"Stock\"] == stock][\"Date\"],\n",
    "                     y=df[df[\"Stock\"] == stock][\"Volume\"],\n",
    "                     mode='lines', opacity=0.7,\n",
    "                     name=f'Volume {dropdown[stock]}', textposition='bottom center'))\n",
    "    traces = [trace1]\n",
    "    data = [val for sublist in traces for val in sublist]\n",
    "    figure = {'data': data, \n",
    "              'layout': go.Layout(colorway=[\"#5E0DAC\", '#FF4F00', '#375CB1', \n",
    "                                            '#FF7400', '#FFF400', '#FF0056'],\n",
    "            height=600,\n",
    "            title=f\"Market Volume for {', '.join(str(dropdown[i]) for i in selected_dropdown_value)} Over Time\",\n",
    "            xaxis={\"title\":\"Date\",\n",
    "                   'rangeselector': {'buttons': list([{'count': 1, 'label': '1M', \n",
    "                                                       'step': 'month', \n",
    "                                                       'stepmode': 'backward'},\n",
    "                                                      {'count': 6, 'label': '6M',\n",
    "                                                       'step': 'month', \n",
    "                                                       'stepmode': 'backward'},\n",
    "                                                      {'step': 'all'}])},\n",
    "                   'rangeslider': {'visible': True}, 'type': 'date'},\n",
    "             yaxis={\"title\":\"Transactions Volume\"})}\n",
    "    return figure\n"
   ]
  },
  {
   "cell_type": "code",
   "execution_count": 27,
   "id": "857ff20b",
   "metadata": {},
   "outputs": [
    {
     "data": {
      "text/html": [
       "\n",
       "        <iframe\n",
       "            width=\"100%\"\n",
       "            height=\"650\"\n",
       "            src=\"http://127.0.0.1:8050/\"\n",
       "            frameborder=\"0\"\n",
       "            allowfullscreen\n",
       "            \n",
       "        ></iframe>\n",
       "        "
      ],
      "text/plain": [
       "<IPython.lib.display.IFrame at 0x24c90a51190>"
      ]
     },
     "metadata": {},
     "output_type": "display_data"
    }
   ],
   "source": [
    "if __name__ == '__main__':\n",
    "    app.run_server(debug=True, use_reloader=False)"
   ]
  },
  {
   "cell_type": "code",
   "execution_count": null,
   "id": "55c6eb9a",
   "metadata": {},
   "outputs": [
    {
     "data": {
      "text/html": [
       "\n",
       "        <iframe\n",
       "            width=\"100%\"\n",
       "            height=\"650\"\n",
       "            src=\"http://127.0.0.1:8055/\"\n",
       "            frameborder=\"0\"\n",
       "            allowfullscreen\n",
       "            \n",
       "        ></iframe>\n",
       "        "
      ],
      "text/plain": [
       "<IPython.lib.display.IFrame at 0x1b81cbdde90>"
      ]
     },
     "metadata": {},
     "output_type": "display_data"
    }
   ],
   "source": [
    "if __name__=='__main__':\n",
    "\t  app.run_server(port=8055)"
   ]
  },
  {
   "cell_type": "code",
   "execution_count": null,
   "id": "52a889cb",
   "metadata": {},
   "outputs": [],
   "source": []
  }
 ],
 "metadata": {
  "kernelspec": {
   "display_name": "Python 3 (ipykernel)",
   "language": "python",
   "name": "python3"
  },
  "language_info": {
   "codemirror_mode": {
    "name": "ipython",
    "version": 3
   },
   "file_extension": ".py",
   "mimetype": "text/x-python",
   "name": "python",
   "nbconvert_exporter": "python",
   "pygments_lexer": "ipython3",
   "version": "3.11.4"
  }
 },
 "nbformat": 4,
 "nbformat_minor": 5
}
