{
 "cells": [
  {
   "cell_type": "code",
   "execution_count": null,
   "metadata": {},
   "outputs": [],
   "source": [
    "import yfinance as yf\n",
    "import pandas as pd"
   ]
  },
  {
   "cell_type": "code",
   "execution_count": null,
   "metadata": {},
   "outputs": [],
   "source": [
    "ticker_symbol = \"TATACONSUM.NS\"\n",
    "\n",
    "stock_data = yf.download(ticker_symbol,\n",
    "                      period='max')\n",
    "\n",
    "df_stock = pd.DataFrame(stock_data)\n",
    "\n",
    "csv_filename = f\"{ticker_symbol}_historical_data.csv\"\n",
    "csv_location = \"data/\"\n",
    "\n",
    "csv = csv_location + csv_filename\n",
    "df_stock.to_csv(csv)\n",
    "\n",
    "print(f\"data saved to {csv}\")"
   ]
  }
 ],
 "metadata": {
  "kernelspec": {
   "display_name": "Python 3",
   "language": "python",
   "name": "python3"
  },
  "language_info": {
   "codemirror_mode": {
    "name": "ipython",
    "version": 3
   },
   "file_extension": ".py",
   "mimetype": "text/x-python",
   "name": "python",
   "nbconvert_exporter": "python",
   "pygments_lexer": "ipython3",
   "version": "3.11.4"
  },
  "orig_nbformat": 4
 },
 "nbformat": 4,
 "nbformat_minor": 2
}
